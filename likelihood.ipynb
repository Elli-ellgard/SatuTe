{
 "cells": [
  {
   "cell_type": "markdown",
   "metadata": {},
   "source": [
    "Du hast einen Baum und wir wollen fuer jedes Edge den satute test anwenden.\n",
    "Dafuer schneiden wir das Edge und berechnen dann die partial likelihood an den zwei Nodes des edges."
   ]
  },
  {
   "cell_type": "code",
   "execution_count": 183,
   "metadata": {},
   "outputs": [],
   "source": [
    "import numpy as np\n",
    "from typing import Optional\n",
    "from functools import cache"
   ]
  },
  {
   "cell_type": "code",
   "execution_count": 159,
   "metadata": {},
   "outputs": [],
   "source": [
    "from scipy.sparse.linalg import expm"
   ]
  },
  {
   "cell_type": "code",
   "execution_count": 160,
   "metadata": {},
   "outputs": [],
   "source": [
    "rate_matrix = np.array([[-3, 1, 1, 1], [1, -3, 1, 1], [1, 1, -3, 1], [1, 1, 1, -3]])"
   ]
  },
  {
   "cell_type": "code",
   "execution_count": 175,
   "metadata": {},
   "outputs": [],
   "source": [
    "import dataclasses\n",
    "\n",
    "class Tree:\n",
    "    def __init__(self, edges):\n",
    "        for left, right, branchlength in edges:\n",
    "            left.connect(right, branchlength)\n",
    "            right.connect(left, branchlength)\n",
    "\n",
    "        self.edges = edges\n",
    "\n",
    "    def get_edges(self):\n",
    "        return self.edges\n",
    "\n",
    "    def get_branch_length(self, edge):\n",
    "        return self.branch_lengths[edge]\n",
    "\n",
    "\n",
    "class Node:\n",
    "    name: str\n",
    "    state: Optional[np.array] = dataclasses.field(default_factory=lambda: None)\n",
    "    connected: dict = dataclasses.field(default_factory=dict)\n",
    "\n",
    "    def __init__(self, name, state=None, connected=None):\n",
    "        self.name = name\n",
    "        self.state = state\n",
    "        self.connected = connected or {}\n",
    "\n",
    "    def __hash__(self):\n",
    "        return id(self)\n",
    "\n",
    "    def __eq__(self, other):\n",
    "        return self is other\n",
    "\n",
    "    def connect(self, other_node, branchlength):\n",
    "        self.connected[other_node] = branchlength\n",
    "\n",
    "    def is_leaf(self):\n",
    "        return self.state is not None"
   ]
  },
  {
   "cell_type": "code",
   "execution_count": 176,
   "metadata": {},
   "outputs": [],
   "source": [
    "def test(p1, p2):\n",
    "    pass"
   ]
  },
  {
   "cell_type": "code",
   "execution_count": 177,
   "metadata": {},
   "outputs": [],
   "source": [
    "a1, b2, u3, u4, c5, b6 = [Node(\"A\", get_initial_likelihood_vector('A')), \n",
    "                          Node(\"B\", get_initial_likelihood_vector('C')),\n",
    "                          Node(\"3\"),\n",
    "                          Node(\"4\"), Node(\"C\", get_initial_likelihood_vector('A')), Node(\"D\", get_initial_likelihood_vector('A'))]\n",
    "\n",
    "tree = Tree([(a1, u3, 0.01), (u3, b2, 0.01), (u3, u4, 0.01), (u4, c5, 0.01), (u4, b6, 0.01)])"
   ]
  },
  {
   "cell_type": "code",
   "execution_count": 178,
   "metadata": {},
   "outputs": [
    {
     "data": {
      "text/plain": [
       "False"
      ]
     },
     "execution_count": 178,
     "metadata": {},
     "output_type": "execute_result"
    }
   ],
   "source": [
    "u3.is_leaf()"
   ]
  },
  {
   "cell_type": "code",
   "execution_count": 184,
   "metadata": {},
   "outputs": [],
   "source": [
    "def get_initial_likelihood_vector(state):\n",
    "    nucleotide_code_vector = {\n",
    "        \"A\": [1, 0, 0, 0],\n",
    "        \"C\": [0, 1, 0, 0],\n",
    "        \"G\": [0, 0, 1, 0],\n",
    "        \"T\": [0, 0, 0, 1],\n",
    "        \"N\": [1, 1, 1, 1],\n",
    "        \"-\": [1, 1, 1, 1],\n",
    "    }\n",
    "    return np.array(nucleotide_code_vector[state]).T\n",
    "\n",
    "\n",
    "@cache\n",
    "def partial_likelihood(tree, node, coming_from):\n",
    "    results = 1\n",
    "    if node.is_leaf():\n",
    "        return node.state    \n",
    "    for child in node.connected.keys():\n",
    "        if not child.__eq__(coming_from):\n",
    "\n",
    "            e = expm(rate_matrix * child.connected[node])\n",
    "            p = partial_likelihood(tree ,child, node)\n",
    "            results = results* ((e @ p))\n",
    "    return results"
   ]
  },
  {
   "cell_type": "code",
   "execution_count": 185,
   "metadata": {},
   "outputs": [
    {
     "name": "stdout",
     "output_type": "stream",
     "text": [
      "A 3 [1 0 0 0] [8.96302554e-03 9.05534948e-03 9.14558596e-05 9.14558596e-05]\n",
      "3 B [8.87459032e-01 9.14558596e-05 9.14558596e-05 9.14558596e-05] [0 1 0 0]\n",
      "3 4 [9.51436495e-03 9.51436495e-03 9.60917551e-05 9.60917551e-05] [9.42048985e-01 9.60917551e-05 9.60917551e-05 9.60917551e-05]\n",
      "4 C [9.05534948e-03 9.14558596e-05 2.75198971e-06 2.75198971e-06] [1 0 0 0]\n",
      "4 D [9.05534948e-03 9.14558596e-05 2.75198971e-06 2.75198971e-06] [1 0 0 0]\n"
     ]
    }
   ],
   "source": [
    "\n",
    "\n",
    "for edge in tree.get_edges():\n",
    "    left, right, branchlength = edge\n",
    "    p1 = partial_likelihood(tree, left, right)\n",
    "    p2 = partial_likelihood(tree, right, left)\n",
    "\n",
    "    print(left.name, right.name, p1, p2)\n",
    "\n",
    "    test(p1, p2)"
   ]
  },
  {
   "cell_type": "code",
   "execution_count": 220,
   "metadata": {},
   "outputs": [
    {
     "name": "stdout",
     "output_type": "stream",
     "text": [
      "Node1* Node2*\n",
      "Node1* Node3*\n",
      "Node2* A\n",
      "Node2* B\n",
      "Node3* C\n",
      "Node3* D\n"
     ]
    }
   ],
   "source": [
    "e = expm(rate_matrix*0.01) @ get_initial_likelihood_vector('C')\n",
    "\n",
    "def name_nodes_by_level_order(tree):\n",
    "    i = 1\n",
    "    for node in tree.traverse(\"levelorder\"):\n",
    "        if not node.is_leaf():\n",
    "            node.name = f\"Node{i}*\"\n",
    "            i += 1\n",
    "    return tree\n",
    "\n",
    "#a1, b2, u3, u4, c5, b6 = [Node(\"A\", get_initial_likelihood_vector('A')), \n",
    "#                          Node(\"B\", get_initial_likelihood_vector('C')),\n",
    "#                          Node(\"3\"),\n",
    "#                          Node(\"4\"), Node(\"C\", get_initial_likelihood_vector('A')), Node(\"D\", get_initial_likelihood_vector('A'))]\n",
    "# tree = Tree([(a1, u3, 0.01), (u3, b2, 0.01), (u3, u4, 0.01), (u4, c5, 0.01), (u4, b6, 0.01)])\n",
    "# from ete3 import Tree\n",
    "# t = Tree('((((H,K)D,(F,I)G)B,E)A,((L,(N,Q)O)J,(P,S)M)C);', format=1)\n",
    "# for node in t.traverse(\"postorder\"):\n",
    "# Do some analysis on node\n",
    "#  print(node.name)\n",
    "\n",
    "node_list = []\n",
    "t = Tree('((A,B),(C,D));', format=1);\n",
    "t = name_nodes_by_level_order(t)\n",
    "\n",
    "for node in t.traverse(\"levelorder\"):    \n",
    "    if(node.is_leaf()):\n",
    "      node_list.append(Node(node.name, get_initial_likelihood_vector('A')))\n",
    "\n",
    "for node in t.traverse(\"levelorder\"):\n",
    "    for child_node in node.children:\n",
    "        print(node.name, child_node.name)\n",
    "\n",
    "\n"
   ]
  }
 ],
 "metadata": {
  "kernelspec": {
   "display_name": "env",
   "language": "python",
   "name": "python3"
  },
  "language_info": {
   "codemirror_mode": {
    "name": "ipython",
    "version": 3
   },
   "file_extension": ".py",
   "mimetype": "text/x-python",
   "name": "python",
   "nbconvert_exporter": "python",
   "pygments_lexer": "ipython3",
   "version": "3.11.4"
  },
  "orig_nbformat": 4
 },
 "nbformat": 4,
 "nbformat_minor": 2
}
